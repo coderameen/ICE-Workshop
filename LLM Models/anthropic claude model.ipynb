{
 "cells": [
  {
   "cell_type": "code",
   "execution_count": 1,
   "id": "73f1582a-0b7e-4906-80dd-61f4cd251a6f",
   "metadata": {},
   "outputs": [
    {
     "name": "stdout",
     "output_type": "stream",
     "text": [
      "Requirement already satisfied: langchain_anthropic in c:\\users\\laptop\\appdata\\local\\programs\\python\\python313\\lib\\site-packages (0.3.19)\n",
      "Requirement already satisfied: anthropic<1,>=0.64.0 in c:\\users\\laptop\\appdata\\local\\programs\\python\\python313\\lib\\site-packages (from langchain_anthropic) (0.66.0)\n",
      "Requirement already satisfied: langchain-core<1.0.0,>=0.3.74 in c:\\users\\laptop\\appdata\\local\\programs\\python\\python313\\lib\\site-packages (from langchain_anthropic) (0.3.75)\n",
      "Requirement already satisfied: pydantic<3.0.0,>=2.7.4 in c:\\users\\laptop\\appdata\\local\\programs\\python\\python313\\lib\\site-packages (from langchain_anthropic) (2.11.7)\n",
      "Requirement already satisfied: anyio<5,>=3.5.0 in c:\\users\\laptop\\appdata\\local\\programs\\python\\python313\\lib\\site-packages (from anthropic<1,>=0.64.0->langchain_anthropic) (4.10.0)\n",
      "Requirement already satisfied: distro<2,>=1.7.0 in c:\\users\\laptop\\appdata\\local\\programs\\python\\python313\\lib\\site-packages (from anthropic<1,>=0.64.0->langchain_anthropic) (1.9.0)\n",
      "Requirement already satisfied: httpx<1,>=0.25.0 in c:\\users\\laptop\\appdata\\local\\programs\\python\\python313\\lib\\site-packages (from anthropic<1,>=0.64.0->langchain_anthropic) (0.28.1)\n",
      "Requirement already satisfied: jiter<1,>=0.4.0 in c:\\users\\laptop\\appdata\\local\\programs\\python\\python313\\lib\\site-packages (from anthropic<1,>=0.64.0->langchain_anthropic) (0.10.0)\n",
      "Requirement already satisfied: sniffio in c:\\users\\laptop\\appdata\\local\\programs\\python\\python313\\lib\\site-packages (from anthropic<1,>=0.64.0->langchain_anthropic) (1.3.1)\n",
      "Requirement already satisfied: typing-extensions<5,>=4.10 in c:\\users\\laptop\\appdata\\local\\programs\\python\\python313\\lib\\site-packages (from anthropic<1,>=0.64.0->langchain_anthropic) (4.14.1)\n",
      "Requirement already satisfied: idna>=2.8 in c:\\users\\laptop\\appdata\\local\\programs\\python\\python313\\lib\\site-packages (from anyio<5,>=3.5.0->anthropic<1,>=0.64.0->langchain_anthropic) (3.10)\n",
      "Requirement already satisfied: certifi in c:\\users\\laptop\\appdata\\local\\programs\\python\\python313\\lib\\site-packages (from httpx<1,>=0.25.0->anthropic<1,>=0.64.0->langchain_anthropic) (2025.8.3)\n",
      "Requirement already satisfied: httpcore==1.* in c:\\users\\laptop\\appdata\\local\\programs\\python\\python313\\lib\\site-packages (from httpx<1,>=0.25.0->anthropic<1,>=0.64.0->langchain_anthropic) (1.0.9)\n",
      "Requirement already satisfied: h11>=0.16 in c:\\users\\laptop\\appdata\\local\\programs\\python\\python313\\lib\\site-packages (from httpcore==1.*->httpx<1,>=0.25.0->anthropic<1,>=0.64.0->langchain_anthropic) (0.16.0)\n",
      "Requirement already satisfied: langsmith>=0.3.45 in c:\\users\\laptop\\appdata\\local\\programs\\python\\python313\\lib\\site-packages (from langchain-core<1.0.0,>=0.3.74->langchain_anthropic) (0.4.25)\n",
      "Requirement already satisfied: tenacity!=8.4.0,<10.0.0,>=8.1.0 in c:\\users\\laptop\\appdata\\local\\programs\\python\\python313\\lib\\site-packages (from langchain-core<1.0.0,>=0.3.74->langchain_anthropic) (9.1.2)\n",
      "Requirement already satisfied: jsonpatch<2.0,>=1.33 in c:\\users\\laptop\\appdata\\local\\programs\\python\\python313\\lib\\site-packages (from langchain-core<1.0.0,>=0.3.74->langchain_anthropic) (1.33)\n",
      "Requirement already satisfied: PyYAML>=5.3 in c:\\users\\laptop\\appdata\\local\\programs\\python\\python313\\lib\\site-packages (from langchain-core<1.0.0,>=0.3.74->langchain_anthropic) (6.0.2)\n",
      "Requirement already satisfied: packaging>=23.2 in c:\\users\\laptop\\appdata\\local\\programs\\python\\python313\\lib\\site-packages (from langchain-core<1.0.0,>=0.3.74->langchain_anthropic) (25.0)\n",
      "Requirement already satisfied: jsonpointer>=1.9 in c:\\users\\laptop\\appdata\\local\\programs\\python\\python313\\lib\\site-packages (from jsonpatch<2.0,>=1.33->langchain-core<1.0.0,>=0.3.74->langchain_anthropic) (3.0.0)\n",
      "Requirement already satisfied: annotated-types>=0.6.0 in c:\\users\\laptop\\appdata\\local\\programs\\python\\python313\\lib\\site-packages (from pydantic<3.0.0,>=2.7.4->langchain_anthropic) (0.7.0)\n",
      "Requirement already satisfied: pydantic-core==2.33.2 in c:\\users\\laptop\\appdata\\local\\programs\\python\\python313\\lib\\site-packages (from pydantic<3.0.0,>=2.7.4->langchain_anthropic) (2.33.2)\n",
      "Requirement already satisfied: typing-inspection>=0.4.0 in c:\\users\\laptop\\appdata\\local\\programs\\python\\python313\\lib\\site-packages (from pydantic<3.0.0,>=2.7.4->langchain_anthropic) (0.4.1)\n",
      "Requirement already satisfied: orjson>=3.9.14 in c:\\users\\laptop\\appdata\\local\\programs\\python\\python313\\lib\\site-packages (from langsmith>=0.3.45->langchain-core<1.0.0,>=0.3.74->langchain_anthropic) (3.11.3)\n",
      "Requirement already satisfied: requests-toolbelt>=1.0.0 in c:\\users\\laptop\\appdata\\local\\programs\\python\\python313\\lib\\site-packages (from langsmith>=0.3.45->langchain-core<1.0.0,>=0.3.74->langchain_anthropic) (1.0.0)\n",
      "Requirement already satisfied: requests>=2.0.0 in c:\\users\\laptop\\appdata\\local\\programs\\python\\python313\\lib\\site-packages (from langsmith>=0.3.45->langchain-core<1.0.0,>=0.3.74->langchain_anthropic) (2.32.4)\n",
      "Requirement already satisfied: zstandard>=0.23.0 in c:\\users\\laptop\\appdata\\local\\programs\\python\\python313\\lib\\site-packages (from langsmith>=0.3.45->langchain-core<1.0.0,>=0.3.74->langchain_anthropic) (0.24.0)\n",
      "Requirement already satisfied: charset_normalizer<4,>=2 in c:\\users\\laptop\\appdata\\local\\programs\\python\\python313\\lib\\site-packages (from requests>=2.0.0->langsmith>=0.3.45->langchain-core<1.0.0,>=0.3.74->langchain_anthropic) (3.4.3)\n",
      "Requirement already satisfied: urllib3<3,>=1.21.1 in c:\\users\\laptop\\appdata\\local\\programs\\python\\python313\\lib\\site-packages (from requests>=2.0.0->langsmith>=0.3.45->langchain-core<1.0.0,>=0.3.74->langchain_anthropic) (2.5.0)\n"
     ]
    }
   ],
   "source": [
    "!pip install langchain_anthropic"
   ]
  },
  {
   "cell_type": "code",
   "execution_count": 2,
   "id": "3b15e9d3-92f2-4f89-b06d-aeecd6c81da3",
   "metadata": {},
   "outputs": [],
   "source": [
    "from langchain_anthropic import ChatAnthropic"
   ]
  },
  {
   "cell_type": "code",
   "execution_count": 4,
   "id": "cf26ef18-aee5-4116-9641-0dc617257d76",
   "metadata": {},
   "outputs": [],
   "source": [
    "claude_model = ChatAnthropic(model='claude-3-5-sonnet-20241022',api_key=\"your Anthropic key here....\")"
   ]
  },
  {
   "cell_type": "code",
   "execution_count": 8,
   "id": "54e32f88-200a-4398-97ea-c7bbfde7a911",
   "metadata": {},
   "outputs": [],
   "source": [
    "prompt = \"What is AI\"\n",
    "response = claude_model.invoke(prompt).content\n",
    "response"
   ]
  },
  {
   "cell_type": "code",
   "execution_count": null,
   "id": "d35af92a-fb0c-492c-a085-d0b32645c9ef",
   "metadata": {},
   "outputs": [],
   "source": []
  }
 ],
 "metadata": {
  "kernelspec": {
   "display_name": "Python 3 (ipykernel)",
   "language": "python",
   "name": "python3"
  },
  "language_info": {
   "codemirror_mode": {
    "name": "ipython",
    "version": 3
   },
   "file_extension": ".py",
   "mimetype": "text/x-python",
   "name": "python",
   "nbconvert_exporter": "python",
   "pygments_lexer": "ipython3",
   "version": "3.13.6"
  }
 },
 "nbformat": 4,
 "nbformat_minor": 5
}
